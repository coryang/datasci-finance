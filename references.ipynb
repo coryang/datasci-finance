{
 "cells": [
  {
   "cell_type": "markdown",
   "metadata": {},
   "source": [
    "# Stack\n",
    "\n",
    "### Data munging (ETL)\n",
    "* In-memory: Pandas, numpy\n",
    "* Disk: pickle\n",
    "* SQL: postgresql, mysql, sqlalchemy, cxOracle\n",
    "* Nosql: Pyspark, mongodb\n",
    "\n",
    "### Quant\n",
    "* Optimizer: cvxpy\n",
    "* Backtesting: pyfolio (pyalgotrade, zipline)\n",
    "\n",
    "### Modeling\n",
    "* Econometrics: Statsmodels http://statsmodels.sourceforge.net/\n",
    "    * rolling regression has an error\n",
    "    * no Johansen test\n",
    "* Machine learning: sklearn http://scikit-learn.org/stable/\n",
    "    * ISLR Python https://github.com/JWarmenhoven/ISLR-python\n",
    "* Deep learning https://keras.io/\n",
    "\n",
    "### Management\n",
    "* IDE \n",
    "    * http://jupyter.org/ \n",
    "    * https://www.jetbrains.com/pycharm/\n",
    "* CVS \n",
    "    * https://git-scm.com/doc\n",
    "    * https://github.com/\n",
    "* Virtualenv https://virtualenv.pypa.io/en/stable/\n",
    "\n",
    "### Infrastructure\n",
    "* OS: Windows, Linux ubuntu \n",
    "* db: SQL, nosql, Hadoop\n",
    "* No AWS\n",
    "* vagrant https://www.vagrantup.com/\n",
    "* docker https://www.docker.com/\n"
   ]
  },
  {
   "cell_type": "markdown",
   "metadata": {},
   "source": [
    "# Datasci frontier\n",
    "\n",
    "* Cloud\n",
    "    * https://aws.amazon.com/\n",
    "    * https://www.digitalocean.com/\n",
    "* Big data\n",
    "    * http://www.cloudera.com/downloads/quickstart_vms/5-8.html\n",
    "    * http://hortonworks.com/downloads/#sandbox\n",
    "* Containerization\n",
    "    * https://hub.docker.com/\n",
    "        * https://github.com/jupyter/docker-stacks/tree/master/pyspark-notebook\n",
    "* Unstructured data\n",
    "    * Web http://web.stanford.edu/~zlotnick/TextAsData/Web_Scraping_with_Beautiful_Soup.html\n",
    "    * NLP \n",
    "        * http://www.nltk.org/\n",
    "        * https://api.ai/\n",
    "* IoT\n",
    "    * https://aws.amazon.com/iot/\n",
    "    * https://cloud.google.com/solutions/iot/\n",
    "* Deep learning\n",
    "    * http://a16z.com/2016/06/10/ai-deep-learning-machines/\n",
    "    * https://keras.io/\n",
    "    * https://github.com/dmlc/mxnet\n",
    "* (Deep) reinforcement learning\n",
    "    * https://gym.openai.com/\n",
    "    * https://github.com/coreylynch/async-rl\n",
    "    * http://arxiv.org/pdf/1312.5602.pdf\n",
    "* AI/Robotics\n",
    "    * https://www.youtube.com/watch?v=6BchV1Pk7yc\n",
    "    * https://www.youtube.com/watch?v=P0NTV2mbJhA\n",
    "    * http://www.dtic.mil/cgi-bin/GetTRDoc?AD=ADA520502\n",
    "    * https://github.com/RoboJackets/robocup-software"
   ]
  },
  {
   "cell_type": "markdown",
   "metadata": {},
   "source": [
    "# General resources\n",
    "* https://www.coursera.org/specializations/jhu-data-science\n",
    "* http://www-bcf.usc.edu/~gareth/ISL/\n"
   ]
  },
  {
   "cell_type": "code",
   "execution_count": null,
   "metadata": {
    "collapsed": true
   },
   "outputs": [],
   "source": []
  }
 ],
 "metadata": {
  "kernelspec": {
   "display_name": "Python 2",
   "language": "python",
   "name": "python2"
  },
  "language_info": {
   "codemirror_mode": {
    "name": "ipython",
    "version": 2
   },
   "file_extension": ".py",
   "mimetype": "text/x-python",
   "name": "python",
   "nbconvert_exporter": "python",
   "pygments_lexer": "ipython2",
   "version": "2.7.10"
  }
 },
 "nbformat": 4,
 "nbformat_minor": 0
}
